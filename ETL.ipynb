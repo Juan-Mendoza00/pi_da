{
 "cells": [
  {
   "cell_type": "markdown",
   "metadata": {},
   "source": [
    "# **Pryecto Data Analytics: Siniestros Viales**\n",
    "\n",
    "### ETL: Primer Acercamiento a los Datos\n",
    "\n",
    "Datos extraídos de base web de datos públicos, generados, guardados y publicados por el Gobierno de la Ciudad de Buenos Aires.\n",
    "\n",
    "Sitio web:\n",
    "[Buenos Aires Data](https://data.buenosaires.gob.ar/dataset/victimas-siniestros-viales)\n",
    "\n",
    "Libros de Excel descargados y guardados dentro de [data](./data/) en el respositorio donde se encuentra este Notebook.\n",
    "\n",
    "- El libro de homicidios está conformado por hojas que contienen los datos; hojas de \"HECHOS\" con la información de los siniestros y \"VICTIMAS\" con información sobre las victimas mortales; cada uno con sus respectivos diccionarios para las definiciones y descripciones de las variables.\n",
    "\n",
    "- Se especifica qué valores representan datos faltantes: De acuerdo a las definiciones, \"SD\" quiere decir sin dato. "
   ]
  },
  {
   "cell_type": "code",
   "execution_count": 1,
   "metadata": {},
   "outputs": [
    {
     "name": "stdout",
     "output_type": "stream",
     "text": [
      "<class 'pandas.core.frame.DataFrame'>\n",
      "RangeIndex: 696 entries, 0 to 695\n",
      "Data columns (total 21 columns):\n",
      " #   Column                 Non-Null Count  Dtype         \n",
      "---  ------                 --------------  -----         \n",
      " 0   ID                     696 non-null    object        \n",
      " 1   N_VICTIMAS             696 non-null    int64         \n",
      " 2   FECHA                  696 non-null    datetime64[ns]\n",
      " 3   AAAA                   696 non-null    int64         \n",
      " 4   MM                     696 non-null    int64         \n",
      " 5   DD                     696 non-null    int64         \n",
      " 6   HORA                   696 non-null    object        \n",
      " 7   HH                     696 non-null    object        \n",
      " 8   LUGAR_DEL_HECHO        696 non-null    object        \n",
      " 9   TIPO_DE_CALLE          696 non-null    object        \n",
      " 10  Calle                  695 non-null    object        \n",
      " 11  Altura                 129 non-null    float64       \n",
      " 12  Cruce                  525 non-null    object        \n",
      " 13  Dirección Normalizada  688 non-null    object        \n",
      " 14  COMUNA                 696 non-null    int64         \n",
      " 15  XY (CABA)              696 non-null    object        \n",
      " 16  pos x                  696 non-null    object        \n",
      " 17  pos y                  696 non-null    object        \n",
      " 18  PARTICIPANTES          696 non-null    object        \n",
      " 19  VICTIMA                696 non-null    object        \n",
      " 20  ACUSADO                696 non-null    object        \n",
      "dtypes: datetime64[ns](1), float64(1), int64(5), object(14)\n",
      "memory usage: 114.3+ KB\n"
     ]
    }
   ],
   "source": [
    "import pandas as pd\n",
    "import numpy as np \n",
    "\n",
    "# Leer y convertir a Datrafreame\n",
    "df_hechos = pd.read_excel(\n",
    "    './datos_originales/homicidios.xlsx',\n",
    "    sheet_name='HECHOS',    # Tabla en la hoja HECHOS\n",
    "    # na_values=['SD','Sd']\n",
    ")\n",
    "df_hechos.info()"
   ]
  },
  {
   "cell_type": "code",
   "execution_count": 2,
   "metadata": {},
   "outputs": [
    {
     "name": "stdout",
     "output_type": "stream",
     "text": [
      "<class 'pandas.core.frame.DataFrame'>\n",
      "RangeIndex: 717 entries, 0 to 716\n",
      "Data columns (total 10 columns):\n",
      " #   Column               Non-Null Count  Dtype         \n",
      "---  ------               --------------  -----         \n",
      " 0   ID_hecho             717 non-null    object        \n",
      " 1   FECHA                717 non-null    datetime64[ns]\n",
      " 2   AAAA                 717 non-null    int64         \n",
      " 3   MM                   717 non-null    int64         \n",
      " 4   DD                   717 non-null    int64         \n",
      " 5   ROL                  717 non-null    object        \n",
      " 6   VICTIMA              717 non-null    object        \n",
      " 7   SEXO                 717 non-null    object        \n",
      " 8   EDAD                 717 non-null    object        \n",
      " 9   FECHA_FALLECIMIENTO  717 non-null    object        \n",
      "dtypes: datetime64[ns](1), int64(3), object(6)\n",
      "memory usage: 56.1+ KB\n"
     ]
    }
   ],
   "source": [
    "# Leer y convertir a DataFrame\n",
    "df_victimas = pd.read_excel(\n",
    "    './datos_originales/homicidios.xlsx',\n",
    "    sheet_name='VICTIMAS',    # Tabla en la hoja VICTIMAS\n",
    "    # na_values=['SD','Sd']\n",
    ")\n",
    "df_victimas.info()"
   ]
  },
  {
   "cell_type": "markdown",
   "metadata": {},
   "source": [
    "- Un total de **696** registros y **21** columnas para la tabla de hechos.\n",
    "\n",
    "- Un total de **717** filas y **10** columnas para la tabla de víctimas.\n",
    "\n",
    "Según las notas que acompañan los archivos, las tablas se relacionan entre sí mediante el ID del hecho y debe haber registros únicos de ID para cada siniestro en la tabla de Hechos."
   ]
  },
  {
   "cell_type": "code",
   "execution_count": 3,
   "metadata": {},
   "outputs": [
    {
     "data": {
      "text/plain": [
       "696"
      ]
     },
     "execution_count": 3,
     "metadata": {},
     "output_type": "execute_result"
    }
   ],
   "source": [
    "# El largo de la lista de valores únicos para ID debería ser igual \n",
    "# al número de filas; 696\n",
    "len(df_hechos['ID'].unique())"
   ]
  },
  {
   "cell_type": "markdown",
   "metadata": {},
   "source": [
    "- La tabla de hechos presenta valores faltantes en las columnas de **Calle** y **Altura**. Por practicidad se determina que, de acuerdo con el objetivo del proyecto, no es necesario contar con parámetros tan específicos para las variables espaciales que describen en donde se produjo el siniestro. Es por esto que '**nombre de la calle**', '**altura**' y '**nombre del cruc**e' en que caso de que lo haya, no se considerarán relevantes y sus respectivas columnas serán descartadas para análisis posteriores.\n",
    "\n",
    "- Aunque se quiere evitar perder información, para propositos de análisis es redundante tener dos columnas de dirección. Se eliminará la '**Dirección Normalizada**'.\n",
    "\n",
    "- Se descartarán las columnas de '**Año**', '**Mes**' y '**Día**'. También la '**Hora**' y en su lugar se conservará '**HH**' que corresponde a la franja horaria.\n",
    "\n",
    "- Se usará las coordenadas del sistema geodésico, por lo que '**XY (CABA)**' será eliminada.\n",
    "\n",
    "- La columna '**PARTICIPANTES**' es una conjunción de las columnas de '**VICITMA**' y '**ACUSADO**'. Se descartará la primera mencionada."
   ]
  },
  {
   "cell_type": "code",
   "execution_count": 4,
   "metadata": {},
   "outputs": [],
   "source": [
    "columnas = ['Calle', 'Altura', 'Cruce', 'Dirección Normalizada',\n",
    "            'AAAA', 'MM', 'DD', 'HORA', 'XY (CABA)', 'PARTICIPANTES']\n",
    "\n",
    "df_hechos.drop(columns=columnas, inplace=True)"
   ]
  },
  {
   "cell_type": "code",
   "execution_count": 5,
   "metadata": {},
   "outputs": [
    {
     "data": {
      "text/html": [
       "<div>\n",
       "<style scoped>\n",
       "    .dataframe tbody tr th:only-of-type {\n",
       "        vertical-align: middle;\n",
       "    }\n",
       "\n",
       "    .dataframe tbody tr th {\n",
       "        vertical-align: top;\n",
       "    }\n",
       "\n",
       "    .dataframe thead th {\n",
       "        text-align: right;\n",
       "    }\n",
       "</style>\n",
       "<table border=\"1\" class=\"dataframe\">\n",
       "  <thead>\n",
       "    <tr style=\"text-align: right;\">\n",
       "      <th></th>\n",
       "      <th>ID</th>\n",
       "      <th>N_VICTIMAS</th>\n",
       "      <th>FECHA</th>\n",
       "      <th>HH</th>\n",
       "      <th>LUGAR_DEL_HECHO</th>\n",
       "      <th>TIPO_DE_CALLE</th>\n",
       "      <th>COMUNA</th>\n",
       "      <th>pos x</th>\n",
       "      <th>pos y</th>\n",
       "      <th>VICTIMA</th>\n",
       "      <th>ACUSADO</th>\n",
       "    </tr>\n",
       "  </thead>\n",
       "  <tbody>\n",
       "    <tr>\n",
       "      <th>0</th>\n",
       "      <td>2016-0001</td>\n",
       "      <td>1</td>\n",
       "      <td>2016-01-01</td>\n",
       "      <td>4</td>\n",
       "      <td>AV PIEDRA BUENA Y AV FERNANDEZ DE LA CRUZ</td>\n",
       "      <td>AVENIDA</td>\n",
       "      <td>8</td>\n",
       "      <td>-58.47533969</td>\n",
       "      <td>-34.68757022</td>\n",
       "      <td>MOTO</td>\n",
       "      <td>AUTO</td>\n",
       "    </tr>\n",
       "    <tr>\n",
       "      <th>1</th>\n",
       "      <td>2016-0002</td>\n",
       "      <td>1</td>\n",
       "      <td>2016-01-02</td>\n",
       "      <td>1</td>\n",
       "      <td>AV GRAL PAZ  Y AV DE LOS CORRALES</td>\n",
       "      <td>GRAL PAZ</td>\n",
       "      <td>9</td>\n",
       "      <td>-58.50877521</td>\n",
       "      <td>-34.66977709</td>\n",
       "      <td>AUTO</td>\n",
       "      <td>PASAJEROS</td>\n",
       "    </tr>\n",
       "    <tr>\n",
       "      <th>2</th>\n",
       "      <td>2016-0003</td>\n",
       "      <td>1</td>\n",
       "      <td>2016-01-03</td>\n",
       "      <td>7</td>\n",
       "      <td>AV ENTRE RIOS 2034</td>\n",
       "      <td>AVENIDA</td>\n",
       "      <td>1</td>\n",
       "      <td>-58.39040293</td>\n",
       "      <td>-34.63189362</td>\n",
       "      <td>MOTO</td>\n",
       "      <td>AUTO</td>\n",
       "    </tr>\n",
       "    <tr>\n",
       "      <th>3</th>\n",
       "      <td>2016-0004</td>\n",
       "      <td>1</td>\n",
       "      <td>2016-01-10</td>\n",
       "      <td>0</td>\n",
       "      <td>AV LARRAZABAL Y GRAL VILLEGAS CONRADO</td>\n",
       "      <td>AVENIDA</td>\n",
       "      <td>8</td>\n",
       "      <td>-58.46503904</td>\n",
       "      <td>-34.68092974</td>\n",
       "      <td>MOTO</td>\n",
       "      <td>SD</td>\n",
       "    </tr>\n",
       "    <tr>\n",
       "      <th>4</th>\n",
       "      <td>2016-0005</td>\n",
       "      <td>1</td>\n",
       "      <td>2016-01-21</td>\n",
       "      <td>5</td>\n",
       "      <td>AV SAN JUAN Y PRESIDENTE LUIS SAENZ PEÑA</td>\n",
       "      <td>AVENIDA</td>\n",
       "      <td>1</td>\n",
       "      <td>-58.38718297</td>\n",
       "      <td>-34.62246630</td>\n",
       "      <td>MOTO</td>\n",
       "      <td>PASAJEROS</td>\n",
       "    </tr>\n",
       "  </tbody>\n",
       "</table>\n",
       "</div>"
      ],
      "text/plain": [
       "          ID  N_VICTIMAS      FECHA HH  \\\n",
       "0  2016-0001           1 2016-01-01  4   \n",
       "1  2016-0002           1 2016-01-02  1   \n",
       "2  2016-0003           1 2016-01-03  7   \n",
       "3  2016-0004           1 2016-01-10  0   \n",
       "4  2016-0005           1 2016-01-21  5   \n",
       "\n",
       "                             LUGAR_DEL_HECHO TIPO_DE_CALLE  COMUNA  \\\n",
       "0  AV PIEDRA BUENA Y AV FERNANDEZ DE LA CRUZ       AVENIDA       8   \n",
       "1          AV GRAL PAZ  Y AV DE LOS CORRALES      GRAL PAZ       9   \n",
       "2                         AV ENTRE RIOS 2034       AVENIDA       1   \n",
       "3      AV LARRAZABAL Y GRAL VILLEGAS CONRADO       AVENIDA       8   \n",
       "4  AV SAN JUAN Y PRESIDENTE LUIS SAENZ PEÑA        AVENIDA       1   \n",
       "\n",
       "          pos x         pos y VICTIMA    ACUSADO  \n",
       "0  -58.47533969  -34.68757022    MOTO       AUTO  \n",
       "1  -58.50877521  -34.66977709    AUTO  PASAJEROS  \n",
       "2  -58.39040293  -34.63189362    MOTO       AUTO  \n",
       "3  -58.46503904  -34.68092974    MOTO         SD  \n",
       "4  -58.38718297  -34.62246630    MOTO  PASAJEROS  "
      ]
     },
     "execution_count": 5,
     "metadata": {},
     "output_type": "execute_result"
    }
   ],
   "source": [
    "df_hechos.head()"
   ]
  },
  {
   "cell_type": "markdown",
   "metadata": {},
   "source": [
    "**Detección de valores nulos.**\n",
    "\n",
    "Se considerará nulos los valores:\n",
    "- Los Espacios en blanco (\"\").\n",
    "- Se detectó que hay registros sin valores para Longitud y Latitud. En dichas filas aparece un punto (\".\") que tambíen será tomado como nulo.\n",
    "\n",
    "Consideraciones:\n",
    "- Para las variables **categóricas**/**cualitativas**: Si hay valores nulos y el tipo de dato más conveniente es un cadena de texto entonces los valores nulos o faltantes se dejarán de acuerdo a la notación original con que se cargaron los datos; como \"**Sd**\", queriendo decir Sin dato.\n",
    "\n",
    "- Para la variables cuantitativas: En caso de existir un valor nulo para una variable numérica y cuyo tipo más adecuado sea un flotante entonces se reemplaza por `np.NaN`."
   ]
  },
  {
   "cell_type": "code",
   "execution_count": 6,
   "metadata": {},
   "outputs": [],
   "source": [
    "# Pos x, Pos y son numericas y deben ser float\n",
    "df_hechos[['pos x', 'pos y']] = df_hechos[['pos x', 'pos y']].replace('.', np.nan).astype('float')\n",
    "\n",
    "# Reemplazar espacios en blanco por SD\n",
    "df_hechos.replace(\n",
    "   { \"\": \"SD\"},\n",
    "    inplace=True\n",
    ")"
   ]
  },
  {
   "cell_type": "markdown",
   "metadata": {},
   "source": [
    "**Normalizar las columnas que contienen textos.**"
   ]
  },
  {
   "cell_type": "code",
   "execution_count": 7,
   "metadata": {},
   "outputs": [],
   "source": [
    "# Lista de columnas tipo texto\n",
    "cols = ['LUGAR_DEL_HECHO', 'TIPO_DE_CALLE', 'VICTIMA', 'ACUSADO']\n",
    "\n",
    "# Bucle para aplicar los cambios.\n",
    "for col in cols:\n",
    "    df_hechos[col] = (\n",
    "        df_hechos[col]\n",
    "        .map(str.strip, na_action='ignore')\n",
    "        .map(str.title, na_action='ignore'))\n"
   ]
  },
  {
   "cell_type": "markdown",
   "metadata": {},
   "source": [
    "**Renombrar las columnas**"
   ]
  },
  {
   "cell_type": "code",
   "execution_count": 8,
   "metadata": {},
   "outputs": [],
   "source": [
    "old = df_hechos.columns\n",
    "new = ['ID_hecho', 'Cantidad_Víctimas', 'Fecha', 'Hora', 'Lugar_del_hecho', \n",
    "       'Tipo_de_calle', 'Comuna', 'Longitud', 'Latitud', 'Víctima', 'Acusado']\n",
    "\n",
    "renamer = {old: new for (old, new) in zip(old, new)}\n",
    "df_hechos.rename(columns=renamer, inplace=True)"
   ]
  },
  {
   "cell_type": "markdown",
   "metadata": {},
   "source": [
    "¿Cuáles **comunas** están presentes en el DataFrame?"
   ]
  },
  {
   "cell_type": "code",
   "execution_count": 9,
   "metadata": {},
   "outputs": [
    {
     "name": "stdout",
     "output_type": "stream",
     "text": [
      "Comunas donde hubo siniestros fatales: [8, 9, 1, 11, 15, 4, 7, 12, 3, 13, 14, 10, 6, 2, 5, 0]\n"
     ]
    }
   ],
   "source": [
    "Listado_comunas = df_hechos[\"Comuna\"].unique().tolist()\n",
    "\n",
    "print(f'Comunas donde hubo siniestros fatales: {Listado_comunas}')"
   ]
  },
  {
   "cell_type": "markdown",
   "metadata": {},
   "source": [
    "No se supone que deba haber columna 0 ya que las comunas van de la 1 a la 15.\n",
    "\n",
    "Se reemplazará el valor de cero por la notación de faltante \"Sd\""
   ]
  },
  {
   "cell_type": "code",
   "execution_count": 10,
   "metadata": {},
   "outputs": [],
   "source": [
    "df_hechos['Comuna'].replace(0,'Sd', inplace=True)"
   ]
  },
  {
   "cell_type": "markdown",
   "metadata": {},
   "source": [
    "Version final del DataFrame."
   ]
  },
  {
   "cell_type": "code",
   "execution_count": 11,
   "metadata": {},
   "outputs": [
    {
     "data": {
      "text/html": [
       "<div>\n",
       "<style scoped>\n",
       "    .dataframe tbody tr th:only-of-type {\n",
       "        vertical-align: middle;\n",
       "    }\n",
       "\n",
       "    .dataframe tbody tr th {\n",
       "        vertical-align: top;\n",
       "    }\n",
       "\n",
       "    .dataframe thead th {\n",
       "        text-align: right;\n",
       "    }\n",
       "</style>\n",
       "<table border=\"1\" class=\"dataframe\">\n",
       "  <thead>\n",
       "    <tr style=\"text-align: right;\">\n",
       "      <th></th>\n",
       "      <th>ID_hecho</th>\n",
       "      <th>Cantidad_Víctimas</th>\n",
       "      <th>Fecha</th>\n",
       "      <th>Hora</th>\n",
       "      <th>Lugar_del_hecho</th>\n",
       "      <th>Tipo_de_calle</th>\n",
       "      <th>Comuna</th>\n",
       "      <th>Longitud</th>\n",
       "      <th>Latitud</th>\n",
       "      <th>Víctima</th>\n",
       "      <th>Acusado</th>\n",
       "    </tr>\n",
       "  </thead>\n",
       "  <tbody>\n",
       "    <tr>\n",
       "      <th>0</th>\n",
       "      <td>2016-0001</td>\n",
       "      <td>1</td>\n",
       "      <td>2016-01-01</td>\n",
       "      <td>4</td>\n",
       "      <td>Av Piedra Buena Y Av Fernandez De La Cruz</td>\n",
       "      <td>Avenida</td>\n",
       "      <td>8</td>\n",
       "      <td>-58.475340</td>\n",
       "      <td>-34.687570</td>\n",
       "      <td>Moto</td>\n",
       "      <td>Auto</td>\n",
       "    </tr>\n",
       "    <tr>\n",
       "      <th>1</th>\n",
       "      <td>2016-0002</td>\n",
       "      <td>1</td>\n",
       "      <td>2016-01-02</td>\n",
       "      <td>1</td>\n",
       "      <td>Av Gral Paz  Y Av De Los Corrales</td>\n",
       "      <td>Gral Paz</td>\n",
       "      <td>9</td>\n",
       "      <td>-58.508775</td>\n",
       "      <td>-34.669777</td>\n",
       "      <td>Auto</td>\n",
       "      <td>Pasajeros</td>\n",
       "    </tr>\n",
       "    <tr>\n",
       "      <th>2</th>\n",
       "      <td>2016-0003</td>\n",
       "      <td>1</td>\n",
       "      <td>2016-01-03</td>\n",
       "      <td>7</td>\n",
       "      <td>Av Entre Rios 2034</td>\n",
       "      <td>Avenida</td>\n",
       "      <td>1</td>\n",
       "      <td>-58.390403</td>\n",
       "      <td>-34.631894</td>\n",
       "      <td>Moto</td>\n",
       "      <td>Auto</td>\n",
       "    </tr>\n",
       "    <tr>\n",
       "      <th>3</th>\n",
       "      <td>2016-0004</td>\n",
       "      <td>1</td>\n",
       "      <td>2016-01-10</td>\n",
       "      <td>0</td>\n",
       "      <td>Av Larrazabal Y Gral Villegas Conrado</td>\n",
       "      <td>Avenida</td>\n",
       "      <td>8</td>\n",
       "      <td>-58.465039</td>\n",
       "      <td>-34.680930</td>\n",
       "      <td>Moto</td>\n",
       "      <td>Sd</td>\n",
       "    </tr>\n",
       "    <tr>\n",
       "      <th>4</th>\n",
       "      <td>2016-0005</td>\n",
       "      <td>1</td>\n",
       "      <td>2016-01-21</td>\n",
       "      <td>5</td>\n",
       "      <td>Av San Juan Y Presidente Luis Saenz Peña</td>\n",
       "      <td>Avenida</td>\n",
       "      <td>1</td>\n",
       "      <td>-58.387183</td>\n",
       "      <td>-34.622466</td>\n",
       "      <td>Moto</td>\n",
       "      <td>Pasajeros</td>\n",
       "    </tr>\n",
       "  </tbody>\n",
       "</table>\n",
       "</div>"
      ],
      "text/plain": [
       "    ID_hecho  Cantidad_Víctimas      Fecha Hora  \\\n",
       "0  2016-0001                  1 2016-01-01    4   \n",
       "1  2016-0002                  1 2016-01-02    1   \n",
       "2  2016-0003                  1 2016-01-03    7   \n",
       "3  2016-0004                  1 2016-01-10    0   \n",
       "4  2016-0005                  1 2016-01-21    5   \n",
       "\n",
       "                             Lugar_del_hecho Tipo_de_calle Comuna   Longitud  \\\n",
       "0  Av Piedra Buena Y Av Fernandez De La Cruz       Avenida      8 -58.475340   \n",
       "1          Av Gral Paz  Y Av De Los Corrales      Gral Paz      9 -58.508775   \n",
       "2                         Av Entre Rios 2034       Avenida      1 -58.390403   \n",
       "3      Av Larrazabal Y Gral Villegas Conrado       Avenida      8 -58.465039   \n",
       "4   Av San Juan Y Presidente Luis Saenz Peña       Avenida      1 -58.387183   \n",
       "\n",
       "     Latitud Víctima    Acusado  \n",
       "0 -34.687570    Moto       Auto  \n",
       "1 -34.669777    Auto  Pasajeros  \n",
       "2 -34.631894    Moto       Auto  \n",
       "3 -34.680930    Moto         Sd  \n",
       "4 -34.622466    Moto  Pasajeros  "
      ]
     },
     "execution_count": 11,
     "metadata": {},
     "output_type": "execute_result"
    }
   ],
   "source": [
    "df_hechos.head()"
   ]
  },
  {
   "cell_type": "markdown",
   "metadata": {},
   "source": [
    "Un tratamiento similar se le da a la tabla de víctimas. Se aplican los procedimientos bajo las mismas premisas."
   ]
  },
  {
   "cell_type": "code",
   "execution_count": 12,
   "metadata": {},
   "outputs": [
    {
     "data": {
      "text/html": [
       "<div>\n",
       "<style scoped>\n",
       "    .dataframe tbody tr th:only-of-type {\n",
       "        vertical-align: middle;\n",
       "    }\n",
       "\n",
       "    .dataframe tbody tr th {\n",
       "        vertical-align: top;\n",
       "    }\n",
       "\n",
       "    .dataframe thead th {\n",
       "        text-align: right;\n",
       "    }\n",
       "</style>\n",
       "<table border=\"1\" class=\"dataframe\">\n",
       "  <thead>\n",
       "    <tr style=\"text-align: right;\">\n",
       "      <th></th>\n",
       "      <th>ID_hecho</th>\n",
       "      <th>Fecha</th>\n",
       "      <th>Rol</th>\n",
       "      <th>Víctima</th>\n",
       "      <th>Sexo</th>\n",
       "      <th>Edad</th>\n",
       "      <th>Fecha_Fallecimiento</th>\n",
       "    </tr>\n",
       "  </thead>\n",
       "  <tbody>\n",
       "    <tr>\n",
       "      <th>0</th>\n",
       "      <td>2016-0001</td>\n",
       "      <td>2016-01-01</td>\n",
       "      <td>Conductor</td>\n",
       "      <td>Moto</td>\n",
       "      <td>Masculino</td>\n",
       "      <td>19</td>\n",
       "      <td>2016-01-01 00:00:00</td>\n",
       "    </tr>\n",
       "    <tr>\n",
       "      <th>1</th>\n",
       "      <td>2016-0002</td>\n",
       "      <td>2016-01-02</td>\n",
       "      <td>Conductor</td>\n",
       "      <td>Auto</td>\n",
       "      <td>Masculino</td>\n",
       "      <td>70</td>\n",
       "      <td>2016-01-02 00:00:00</td>\n",
       "    </tr>\n",
       "    <tr>\n",
       "      <th>2</th>\n",
       "      <td>2016-0003</td>\n",
       "      <td>2016-01-03</td>\n",
       "      <td>Conductor</td>\n",
       "      <td>Moto</td>\n",
       "      <td>Masculino</td>\n",
       "      <td>30</td>\n",
       "      <td>2016-01-03 00:00:00</td>\n",
       "    </tr>\n",
       "    <tr>\n",
       "      <th>3</th>\n",
       "      <td>2016-0004</td>\n",
       "      <td>2016-01-10</td>\n",
       "      <td>Conductor</td>\n",
       "      <td>Moto</td>\n",
       "      <td>Masculino</td>\n",
       "      <td>18</td>\n",
       "      <td>SD</td>\n",
       "    </tr>\n",
       "    <tr>\n",
       "      <th>4</th>\n",
       "      <td>2016-0005</td>\n",
       "      <td>2016-01-21</td>\n",
       "      <td>Conductor</td>\n",
       "      <td>Moto</td>\n",
       "      <td>Masculino</td>\n",
       "      <td>29</td>\n",
       "      <td>2016-02-01 00:00:00</td>\n",
       "    </tr>\n",
       "  </tbody>\n",
       "</table>\n",
       "</div>"
      ],
      "text/plain": [
       "    ID_hecho      Fecha        Rol Víctima       Sexo Edad  \\\n",
       "0  2016-0001 2016-01-01  Conductor    Moto  Masculino   19   \n",
       "1  2016-0002 2016-01-02  Conductor    Auto  Masculino   70   \n",
       "2  2016-0003 2016-01-03  Conductor    Moto  Masculino   30   \n",
       "3  2016-0004 2016-01-10  Conductor    Moto  Masculino   18   \n",
       "4  2016-0005 2016-01-21  Conductor    Moto  Masculino   29   \n",
       "\n",
       "   Fecha_Fallecimiento  \n",
       "0  2016-01-01 00:00:00  \n",
       "1  2016-01-02 00:00:00  \n",
       "2  2016-01-03 00:00:00  \n",
       "3                   SD  \n",
       "4  2016-02-01 00:00:00  "
      ]
     },
     "execution_count": 12,
     "metadata": {},
     "output_type": "execute_result"
    }
   ],
   "source": [
    "# Columnas a descartar\n",
    "columnas = ['AAAA', 'MM', 'DD']\n",
    "\n",
    "# Eliminar\n",
    "df_victimas.drop(columns=columnas, inplace=True)\n",
    "\n",
    "# Aplicar normalización al texto\n",
    "cols = ['ROL', 'VICTIMA', 'SEXO']\n",
    "\n",
    "for col in cols:\n",
    "    # Eliminar espacios en blanco innecesarios si los hay\n",
    "    # Aplicar método title al texto.\n",
    "    df_victimas[col] = df_victimas[col].apply(str.strip).apply(str.title)\n",
    "\n",
    "# Renombrar las columnas\n",
    "olds = df_victimas.columns\n",
    "news = ['Fecha', 'Rol', 'Víctima', 'Sexo', 'Edad', 'Fecha_Fallecimiento']\n",
    "\n",
    "# Diccionario para pasar por el parámetro y renombrar las columnas\n",
    "renamer = {old: new for (old, new) in zip(olds[1:], news)}    # Se excluye la primera columna\n",
    "df_victimas.rename(columns=renamer, inplace=True)\n",
    "\n",
    "df_victimas.head()"
   ]
  },
  {
   "cell_type": "code",
   "execution_count": 13,
   "metadata": {},
   "outputs": [],
   "source": [
    "# Llenar espacios en blanco con SD\n",
    "df_victimas.replace(\n",
    "    {\n",
    "        \"\": \"Sd\",\n",
    "        \"SD\": \"Sd\"\n",
    "    },\n",
    "    inplace=True\n",
    ")"
   ]
  },
  {
   "cell_type": "markdown",
   "metadata": {},
   "source": [
    "Según el diccionario de datos, las columnas para **Acusado** y **Victimas** se refieren al vehiculo que ocupaba **quien haya sido acusado** y **quien haya fallecido** respectivamente. Es una buena idea agregarle un prefijo al nombre de aquellas columnas para hacerlo más explícito y entendible que se trata del tipo de vehículo involucrado."
   ]
  },
  {
   "cell_type": "code",
   "execution_count": 14,
   "metadata": {},
   "outputs": [],
   "source": [
    "# Cambiando el nombre en hechos\n",
    "df_hechos.rename(\n",
    "    columns={\n",
    "        'Acusado': 'Vehiculo_Acusado',\n",
    "        'Víctima': 'Vehículo_Víctima'\n",
    "    },\n",
    "    inplace=True\n",
    ")\n",
    "\n",
    "# Cambiando el nombre en victimas\n",
    "df_victimas.rename(\n",
    "    columns={\n",
    "        'Víctima': 'Vehículo_Víctima'\n",
    "    },\n",
    "    inplace=True\n",
    ")\n",
    "\n",
    "# Cambiando columna de fechas de fallecimiento a formato datetime                                                                            \n",
    "df_victimas['Fecha_Fallecimiento'] = pd.to_datetime(\n",
    "    df_victimas['Fecha_Fallecimiento'],\n",
    "    errors='coerce'\n",
    "    )"
   ]
  },
  {
   "cell_type": "markdown",
   "metadata": {},
   "source": [
    "Guardar en formato csv."
   ]
  },
  {
   "cell_type": "code",
   "execution_count": 15,
   "metadata": {},
   "outputs": [],
   "source": [
    "df_hechos.to_csv('./data/homicidios_hechos.csv', index=False)\n",
    "df_victimas.to_csv('./data/homicidios_victimas.csv', index=False)"
   ]
  }
 ],
 "metadata": {
  "kernelspec": {
   "display_name": "henry",
   "language": "python",
   "name": "python3"
  },
  "language_info": {
   "codemirror_mode": {
    "name": "ipython",
    "version": 3
   },
   "file_extension": ".py",
   "mimetype": "text/x-python",
   "name": "python",
   "nbconvert_exporter": "python",
   "pygments_lexer": "ipython3",
   "version": "3.11.5"
  }
 },
 "nbformat": 4,
 "nbformat_minor": 2
}
